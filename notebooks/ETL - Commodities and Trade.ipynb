{
 "cells": [
  {
   "cell_type": "markdown",
   "metadata": {},
   "source": [
    "## Imports"
   ]
  },
  {
   "cell_type": "code",
   "execution_count": 1,
   "metadata": {},
   "outputs": [],
   "source": [
    "import os\n",
    "from pyspark.sql import SparkSession\n",
    "import configparser\n",
    "import os\n",
    "from datetime import datetime\n",
    "from pyspark.sql import SparkSession\n",
    "from pyspark.sql import DataFrameReader, DataFrameWriter\n",
    "from pyspark.sql.functions import udf, col, trim\n",
    "from pyspark.sql.functions import monotonically_increasing_id\n",
    "from pyspark.sql.functions import hour, dayofmonth, weekofyear, month, year, dayofweek\n",
    "from pyspark.sql.types import TimestampType\n",
    "from pyspark.sql.types import StructType, StructField\n",
    "from pyspark.sql.types import DoubleType, IntegerType, StringType\n",
    "\n",
    "from pyspark import SparkContext\n",
    "from pyspark.sql import SQLContext\n",
    "\n",
    "os.environ['PYSPARK_SUBMIT_ARGS'] = '--jars file:////home/genughaben/postgresql-42.2.8.jar pyspark-shell'\n",
    "os.environ['SPARK_CLASSPATH'] = \"/home/genughaben/postgresql-42.2.8.jar\""
   ]
  },
  {
   "cell_type": "markdown",
   "metadata": {},
   "source": [
    "### Find dataset path"
   ]
  },
  {
   "cell_type": "code",
   "execution_count": 2,
   "metadata": {},
   "outputs": [
    {
     "name": "stdout",
     "output_type": "stream",
     "text": [
      " commodity_trade_statistics_data.csv\r\n",
      " commodity_trade_statistics_data.csv.zip\r\n",
      " fao_data_crops_data.csv.zip\r\n",
      " GlobalLandTemperaturesByCountry.csv\r\n",
      " GlobalTemperatures.csv\r\n",
      " health-nutrition-and-population-statistics.csv\r\n",
      " health-nutrition-and-population-statistics.zip\r\n",
      "'NFA 2018.csv'\r\n"
     ]
    }
   ],
   "source": [
    "!ls ../data/"
   ]
  },
  {
   "cell_type": "markdown",
   "metadata": {},
   "source": [
    "### Create Spark Context with JDBC connection to PostgreSQL"
   ]
  },
  {
   "cell_type": "code",
   "execution_count": 3,
   "metadata": {},
   "outputs": [
    {
     "name": "stdout",
     "output_type": "stream",
     "text": [
      "Spark started with config: \n",
      " [('spark.executor.heartbeatInterval', '60s'), ('spark.network.timeout', '600s'), ('spark.executor.id', 'driver'), ('spark.jars', 'file:///home/genughaben/postgresql-42.2.8.jar,file:///home/genughaben/.ivy2/jars/org.apache.hadoop_hadoop-aws-2.7.0.jar,file:///home/genughaben/.ivy2/jars/org.apache.hadoop_hadoop-common-2.7.0.jar,file:///home/genughaben/.ivy2/jars/com.fasterxml.jackson.core_jackson-databind-2.2.3.jar,file:///home/genughaben/.ivy2/jars/com.fasterxml.jackson.core_jackson-annotations-2.2.3.jar,file:///home/genughaben/.ivy2/jars/com.amazonaws_aws-java-sdk-1.7.4.jar,file:///home/genughaben/.ivy2/jars/org.apache.hadoop_hadoop-annotations-2.7.0.jar,file:///home/genughaben/.ivy2/jars/com.google.guava_guava-11.0.2.jar,file:///home/genughaben/.ivy2/jars/commons-cli_commons-cli-1.2.jar,file:///home/genughaben/.ivy2/jars/org.apache.commons_commons-math3-3.1.1.jar,file:///home/genughaben/.ivy2/jars/xmlenc_xmlenc-0.52.jar,file:///home/genughaben/.ivy2/jars/commons-httpclient_commons-httpclient-3.1.jar,file:///home/genughaben/.ivy2/jars/commons-codec_commons-codec-1.4.jar,file:///home/genughaben/.ivy2/jars/commons-io_commons-io-2.4.jar,file:///home/genughaben/.ivy2/jars/commons-net_commons-net-3.1.jar,file:///home/genughaben/.ivy2/jars/commons-collections_commons-collections-3.2.1.jar,file:///home/genughaben/.ivy2/jars/javax.servlet_servlet-api-2.5.jar,file:///home/genughaben/.ivy2/jars/org.mortbay.jetty_jetty-6.1.26.jar,file:///home/genughaben/.ivy2/jars/org.mortbay.jetty_jetty-util-6.1.26.jar,file:///home/genughaben/.ivy2/jars/com.sun.jersey_jersey-core-1.9.jar,file:///home/genughaben/.ivy2/jars/com.sun.jersey_jersey-json-1.9.jar,file:///home/genughaben/.ivy2/jars/com.sun.jersey_jersey-server-1.9.jar,file:///home/genughaben/.ivy2/jars/commons-logging_commons-logging-1.1.3.jar,file:///home/genughaben/.ivy2/jars/log4j_log4j-1.2.17.jar,file:///home/genughaben/.ivy2/jars/net.java.dev.jets3t_jets3t-0.9.0.jar,file:///home/genughaben/.ivy2/jars/commons-lang_commons-lang-2.6.jar,file:///home/genughaben/.ivy2/jars/commons-configuration_commons-configuration-1.6.jar,file:///home/genughaben/.ivy2/jars/org.slf4j_slf4j-api-1.7.10.jar,file:///home/genughaben/.ivy2/jars/org.codehaus.jackson_jackson-core-asl-1.9.13.jar,file:///home/genughaben/.ivy2/jars/org.codehaus.jackson_jackson-mapper-asl-1.9.13.jar,file:///home/genughaben/.ivy2/jars/org.apache.avro_avro-1.7.4.jar,file:///home/genughaben/.ivy2/jars/com.google.protobuf_protobuf-java-2.5.0.jar,file:///home/genughaben/.ivy2/jars/com.google.code.gson_gson-2.2.4.jar,file:///home/genughaben/.ivy2/jars/org.apache.hadoop_hadoop-auth-2.7.0.jar,file:///home/genughaben/.ivy2/jars/com.jcraft_jsch-0.1.42.jar,file:///home/genughaben/.ivy2/jars/org.apache.curator_curator-client-2.7.1.jar,file:///home/genughaben/.ivy2/jars/org.apache.curator_curator-recipes-2.7.1.jar,file:///home/genughaben/.ivy2/jars/com.google.code.findbugs_jsr305-3.0.0.jar,file:///home/genughaben/.ivy2/jars/org.apache.htrace_htrace-core-3.1.0-incubating.jar,file:///home/genughaben/.ivy2/jars/org.apache.zookeeper_zookeeper-3.4.6.jar,file:///home/genughaben/.ivy2/jars/org.apache.commons_commons-compress-1.4.1.jar,file:///home/genughaben/.ivy2/jars/org.codehaus.jettison_jettison-1.1.jar,file:///home/genughaben/.ivy2/jars/com.sun.xml.bind_jaxb-impl-2.2.3-1.jar,file:///home/genughaben/.ivy2/jars/org.codehaus.jackson_jackson-jaxrs-1.9.13.jar,file:///home/genughaben/.ivy2/jars/org.codehaus.jackson_jackson-xc-1.9.13.jar,file:///home/genughaben/.ivy2/jars/javax.xml.bind_jaxb-api-2.2.2.jar,file:///home/genughaben/.ivy2/jars/javax.xml.stream_stax-api-1.0-2.jar,file:///home/genughaben/.ivy2/jars/javax.activation_activation-1.1.jar,file:///home/genughaben/.ivy2/jars/asm_asm-3.2.jar,file:///home/genughaben/.ivy2/jars/org.apache.httpcomponents_httpclient-4.2.5.jar,file:///home/genughaben/.ivy2/jars/org.apache.httpcomponents_httpcore-4.2.5.jar,file:///home/genughaben/.ivy2/jars/com.jamesmurty.utils_java-xmlbuilder-0.4.jar,file:///home/genughaben/.ivy2/jars/commons-digester_commons-digester-1.8.jar,file:///home/genughaben/.ivy2/jars/commons-beanutils_commons-beanutils-core-1.8.0.jar,file:///home/genughaben/.ivy2/jars/commons-beanutils_commons-beanutils-1.7.0.jar,file:///home/genughaben/.ivy2/jars/com.thoughtworks.paranamer_paranamer-2.3.jar,file:///home/genughaben/.ivy2/jars/org.xerial.snappy_snappy-java-1.0.4.1.jar,file:///home/genughaben/.ivy2/jars/org.tukaani_xz-1.0.jar,file:///home/genughaben/.ivy2/jars/org.apache.directory.server_apacheds-kerberos-codec-2.0.0-M15.jar,file:///home/genughaben/.ivy2/jars/org.apache.curator_curator-framework-2.7.1.jar,file:///home/genughaben/.ivy2/jars/org.apache.directory.server_apacheds-i18n-2.0.0-M15.jar,file:///home/genughaben/.ivy2/jars/org.apache.directory.api_api-asn1-api-1.0.0-M20.jar,file:///home/genughaben/.ivy2/jars/org.apache.directory.api_api-util-1.0.0-M20.jar,file:///home/genughaben/.ivy2/jars/org.slf4j_slf4j-log4j12-1.7.10.jar,file:///home/genughaben/.ivy2/jars/io.netty_netty-3.6.2.Final.jar,file:///home/genughaben/.ivy2/jars/javax.servlet.jsp_jsp-api-2.1.jar,file:///home/genughaben/.ivy2/jars/jline_jline-0.9.94.jar,file:///home/genughaben/.ivy2/jars/junit_junit-4.11.jar,file:///home/genughaben/.ivy2/jars/org.hamcrest_hamcrest-core-1.3.jar,file:///home/genughaben/.ivy2/jars/com.fasterxml.jackson.core_jackson-core-2.2.3.jar,file:///home/genughaben/.ivy2/jars/joda-time_joda-time-2.10.4.jar'), ('spark.app.name', 'pyspark-shell'), ('spark.files', 'file:///home/genughaben/.ivy2/jars/org.apache.hadoop_hadoop-aws-2.7.0.jar,file:///home/genughaben/.ivy2/jars/org.apache.hadoop_hadoop-common-2.7.0.jar,file:///home/genughaben/.ivy2/jars/com.fasterxml.jackson.core_jackson-databind-2.2.3.jar,file:///home/genughaben/.ivy2/jars/com.fasterxml.jackson.core_jackson-annotations-2.2.3.jar,file:///home/genughaben/.ivy2/jars/com.amazonaws_aws-java-sdk-1.7.4.jar,file:///home/genughaben/.ivy2/jars/org.apache.hadoop_hadoop-annotations-2.7.0.jar,file:///home/genughaben/.ivy2/jars/com.google.guava_guava-11.0.2.jar,file:///home/genughaben/.ivy2/jars/commons-cli_commons-cli-1.2.jar,file:///home/genughaben/.ivy2/jars/org.apache.commons_commons-math3-3.1.1.jar,file:///home/genughaben/.ivy2/jars/xmlenc_xmlenc-0.52.jar,file:///home/genughaben/.ivy2/jars/commons-httpclient_commons-httpclient-3.1.jar,file:///home/genughaben/.ivy2/jars/commons-codec_commons-codec-1.4.jar,file:///home/genughaben/.ivy2/jars/commons-io_commons-io-2.4.jar,file:///home/genughaben/.ivy2/jars/commons-net_commons-net-3.1.jar,file:///home/genughaben/.ivy2/jars/commons-collections_commons-collections-3.2.1.jar,file:///home/genughaben/.ivy2/jars/javax.servlet_servlet-api-2.5.jar,file:///home/genughaben/.ivy2/jars/org.mortbay.jetty_jetty-6.1.26.jar,file:///home/genughaben/.ivy2/jars/org.mortbay.jetty_jetty-util-6.1.26.jar,file:///home/genughaben/.ivy2/jars/com.sun.jersey_jersey-core-1.9.jar,file:///home/genughaben/.ivy2/jars/com.sun.jersey_jersey-json-1.9.jar,file:///home/genughaben/.ivy2/jars/com.sun.jersey_jersey-server-1.9.jar,file:///home/genughaben/.ivy2/jars/commons-logging_commons-logging-1.1.3.jar,file:///home/genughaben/.ivy2/jars/log4j_log4j-1.2.17.jar,file:///home/genughaben/.ivy2/jars/net.java.dev.jets3t_jets3t-0.9.0.jar,file:///home/genughaben/.ivy2/jars/commons-lang_commons-lang-2.6.jar,file:///home/genughaben/.ivy2/jars/commons-configuration_commons-configuration-1.6.jar,file:///home/genughaben/.ivy2/jars/org.slf4j_slf4j-api-1.7.10.jar,file:///home/genughaben/.ivy2/jars/org.codehaus.jackson_jackson-core-asl-1.9.13.jar,file:///home/genughaben/.ivy2/jars/org.codehaus.jackson_jackson-mapper-asl-1.9.13.jar,file:///home/genughaben/.ivy2/jars/org.apache.avro_avro-1.7.4.jar,file:///home/genughaben/.ivy2/jars/com.google.protobuf_protobuf-java-2.5.0.jar,file:///home/genughaben/.ivy2/jars/com.google.code.gson_gson-2.2.4.jar,file:///home/genughaben/.ivy2/jars/org.apache.hadoop_hadoop-auth-2.7.0.jar,file:///home/genughaben/.ivy2/jars/com.jcraft_jsch-0.1.42.jar,file:///home/genughaben/.ivy2/jars/org.apache.curator_curator-client-2.7.1.jar,file:///home/genughaben/.ivy2/jars/org.apache.curator_curator-recipes-2.7.1.jar,file:///home/genughaben/.ivy2/jars/com.google.code.findbugs_jsr305-3.0.0.jar,file:///home/genughaben/.ivy2/jars/org.apache.htrace_htrace-core-3.1.0-incubating.jar,file:///home/genughaben/.ivy2/jars/org.apache.zookeeper_zookeeper-3.4.6.jar,file:///home/genughaben/.ivy2/jars/org.apache.commons_commons-compress-1.4.1.jar,file:///home/genughaben/.ivy2/jars/org.codehaus.jettison_jettison-1.1.jar,file:///home/genughaben/.ivy2/jars/com.sun.xml.bind_jaxb-impl-2.2.3-1.jar,file:///home/genughaben/.ivy2/jars/org.codehaus.jackson_jackson-jaxrs-1.9.13.jar,file:///home/genughaben/.ivy2/jars/org.codehaus.jackson_jackson-xc-1.9.13.jar,file:///home/genughaben/.ivy2/jars/javax.xml.bind_jaxb-api-2.2.2.jar,file:///home/genughaben/.ivy2/jars/javax.xml.stream_stax-api-1.0-2.jar,file:///home/genughaben/.ivy2/jars/javax.activation_activation-1.1.jar,file:///home/genughaben/.ivy2/jars/asm_asm-3.2.jar,file:///home/genughaben/.ivy2/jars/org.apache.httpcomponents_httpclient-4.2.5.jar,file:///home/genughaben/.ivy2/jars/org.apache.httpcomponents_httpcore-4.2.5.jar,file:///home/genughaben/.ivy2/jars/com.jamesmurty.utils_java-xmlbuilder-0.4.jar,file:///home/genughaben/.ivy2/jars/commons-digester_commons-digester-1.8.jar,file:///home/genughaben/.ivy2/jars/commons-beanutils_commons-beanutils-core-1.8.0.jar,file:///home/genughaben/.ivy2/jars/commons-beanutils_commons-beanutils-1.7.0.jar,file:///home/genughaben/.ivy2/jars/com.thoughtworks.paranamer_paranamer-2.3.jar,file:///home/genughaben/.ivy2/jars/org.xerial.snappy_snappy-java-1.0.4.1.jar,file:///home/genughaben/.ivy2/jars/org.tukaani_xz-1.0.jar,file:///home/genughaben/.ivy2/jars/org.apache.directory.server_apacheds-kerberos-codec-2.0.0-M15.jar,file:///home/genughaben/.ivy2/jars/org.apache.curator_curator-framework-2.7.1.jar,file:///home/genughaben/.ivy2/jars/org.apache.directory.server_apacheds-i18n-2.0.0-M15.jar,file:///home/genughaben/.ivy2/jars/org.apache.directory.api_api-asn1-api-1.0.0-M20.jar,file:///home/genughaben/.ivy2/jars/org.apache.directory.api_api-util-1.0.0-M20.jar,file:///home/genughaben/.ivy2/jars/org.slf4j_slf4j-log4j12-1.7.10.jar,file:///home/genughaben/.ivy2/jars/io.netty_netty-3.6.2.Final.jar,file:///home/genughaben/.ivy2/jars/javax.servlet.jsp_jsp-api-2.1.jar,file:///home/genughaben/.ivy2/jars/jline_jline-0.9.94.jar,file:///home/genughaben/.ivy2/jars/junit_junit-4.11.jar,file:///home/genughaben/.ivy2/jars/org.hamcrest_hamcrest-core-1.3.jar,file:///home/genughaben/.ivy2/jars/com.fasterxml.jackson.core_jackson-core-2.2.3.jar,file:///home/genughaben/.ivy2/jars/joda-time_joda-time-2.10.4.jar'), ('spark.submit.pyFiles', '/home/genughaben/.ivy2/jars/org.apache.hadoop_hadoop-aws-2.7.0.jar,/home/genughaben/.ivy2/jars/org.apache.hadoop_hadoop-common-2.7.0.jar,/home/genughaben/.ivy2/jars/com.fasterxml.jackson.core_jackson-databind-2.2.3.jar,/home/genughaben/.ivy2/jars/com.fasterxml.jackson.core_jackson-annotations-2.2.3.jar,/home/genughaben/.ivy2/jars/com.amazonaws_aws-java-sdk-1.7.4.jar,/home/genughaben/.ivy2/jars/org.apache.hadoop_hadoop-annotations-2.7.0.jar,/home/genughaben/.ivy2/jars/com.google.guava_guava-11.0.2.jar,/home/genughaben/.ivy2/jars/commons-cli_commons-cli-1.2.jar,/home/genughaben/.ivy2/jars/org.apache.commons_commons-math3-3.1.1.jar,/home/genughaben/.ivy2/jars/xmlenc_xmlenc-0.52.jar,/home/genughaben/.ivy2/jars/commons-httpclient_commons-httpclient-3.1.jar,/home/genughaben/.ivy2/jars/commons-codec_commons-codec-1.4.jar,/home/genughaben/.ivy2/jars/commons-io_commons-io-2.4.jar,/home/genughaben/.ivy2/jars/commons-net_commons-net-3.1.jar,/home/genughaben/.ivy2/jars/commons-collections_commons-collections-3.2.1.jar,/home/genughaben/.ivy2/jars/javax.servlet_servlet-api-2.5.jar,/home/genughaben/.ivy2/jars/org.mortbay.jetty_jetty-6.1.26.jar,/home/genughaben/.ivy2/jars/org.mortbay.jetty_jetty-util-6.1.26.jar,/home/genughaben/.ivy2/jars/com.sun.jersey_jersey-core-1.9.jar,/home/genughaben/.ivy2/jars/com.sun.jersey_jersey-json-1.9.jar,/home/genughaben/.ivy2/jars/com.sun.jersey_jersey-server-1.9.jar,/home/genughaben/.ivy2/jars/commons-logging_commons-logging-1.1.3.jar,/home/genughaben/.ivy2/jars/log4j_log4j-1.2.17.jar,/home/genughaben/.ivy2/jars/net.java.dev.jets3t_jets3t-0.9.0.jar,/home/genughaben/.ivy2/jars/commons-lang_commons-lang-2.6.jar,/home/genughaben/.ivy2/jars/commons-configuration_commons-configuration-1.6.jar,/home/genughaben/.ivy2/jars/org.slf4j_slf4j-api-1.7.10.jar,/home/genughaben/.ivy2/jars/org.codehaus.jackson_jackson-core-asl-1.9.13.jar,/home/genughaben/.ivy2/jars/org.codehaus.jackson_jackson-mapper-asl-1.9.13.jar,/home/genughaben/.ivy2/jars/org.apache.avro_avro-1.7.4.jar,/home/genughaben/.ivy2/jars/com.google.protobuf_protobuf-java-2.5.0.jar,/home/genughaben/.ivy2/jars/com.google.code.gson_gson-2.2.4.jar,/home/genughaben/.ivy2/jars/org.apache.hadoop_hadoop-auth-2.7.0.jar,/home/genughaben/.ivy2/jars/com.jcraft_jsch-0.1.42.jar,/home/genughaben/.ivy2/jars/org.apache.curator_curator-client-2.7.1.jar,/home/genughaben/.ivy2/jars/org.apache.curator_curator-recipes-2.7.1.jar,/home/genughaben/.ivy2/jars/com.google.code.findbugs_jsr305-3.0.0.jar,/home/genughaben/.ivy2/jars/org.apache.htrace_htrace-core-3.1.0-incubating.jar,/home/genughaben/.ivy2/jars/org.apache.zookeeper_zookeeper-3.4.6.jar,/home/genughaben/.ivy2/jars/org.apache.commons_commons-compress-1.4.1.jar,/home/genughaben/.ivy2/jars/org.codehaus.jettison_jettison-1.1.jar,/home/genughaben/.ivy2/jars/com.sun.xml.bind_jaxb-impl-2.2.3-1.jar,/home/genughaben/.ivy2/jars/org.codehaus.jackson_jackson-jaxrs-1.9.13.jar,/home/genughaben/.ivy2/jars/org.codehaus.jackson_jackson-xc-1.9.13.jar,/home/genughaben/.ivy2/jars/javax.xml.bind_jaxb-api-2.2.2.jar,/home/genughaben/.ivy2/jars/javax.xml.stream_stax-api-1.0-2.jar,/home/genughaben/.ivy2/jars/javax.activation_activation-1.1.jar,/home/genughaben/.ivy2/jars/asm_asm-3.2.jar,/home/genughaben/.ivy2/jars/org.apache.httpcomponents_httpclient-4.2.5.jar,/home/genughaben/.ivy2/jars/org.apache.httpcomponents_httpcore-4.2.5.jar,/home/genughaben/.ivy2/jars/com.jamesmurty.utils_java-xmlbuilder-0.4.jar,/home/genughaben/.ivy2/jars/commons-digester_commons-digester-1.8.jar,/home/genughaben/.ivy2/jars/commons-beanutils_commons-beanutils-core-1.8.0.jar,/home/genughaben/.ivy2/jars/commons-beanutils_commons-beanutils-1.7.0.jar,/home/genughaben/.ivy2/jars/com.thoughtworks.paranamer_paranamer-2.3.jar,/home/genughaben/.ivy2/jars/org.xerial.snappy_snappy-java-1.0.4.1.jar,/home/genughaben/.ivy2/jars/org.tukaani_xz-1.0.jar,/home/genughaben/.ivy2/jars/org.apache.directory.server_apacheds-kerberos-codec-2.0.0-M15.jar,/home/genughaben/.ivy2/jars/org.apache.curator_curator-framework-2.7.1.jar,/home/genughaben/.ivy2/jars/org.apache.directory.server_apacheds-i18n-2.0.0-M15.jar,/home/genughaben/.ivy2/jars/org.apache.directory.api_api-asn1-api-1.0.0-M20.jar,/home/genughaben/.ivy2/jars/org.apache.directory.api_api-util-1.0.0-M20.jar,/home/genughaben/.ivy2/jars/org.slf4j_slf4j-log4j12-1.7.10.jar,/home/genughaben/.ivy2/jars/io.netty_netty-3.6.2.Final.jar,/home/genughaben/.ivy2/jars/javax.servlet.jsp_jsp-api-2.1.jar,/home/genughaben/.ivy2/jars/jline_jline-0.9.94.jar,/home/genughaben/.ivy2/jars/junit_junit-4.11.jar,/home/genughaben/.ivy2/jars/org.hamcrest_hamcrest-core-1.3.jar,/home/genughaben/.ivy2/jars/com.fasterxml.jackson.core_jackson-core-2.2.3.jar,/home/genughaben/.ivy2/jars/joda-time_joda-time-2.10.4.jar'), ('spark.driver.host', 'DeepAl.fritz.box'), ('spark.jars.packages', 'org.apache.hadoop:hadoop-aws:2.7.0'), ('spark.rdd.compress', 'True'), ('spark.driver.port', '44857'), ('spark.serializer.objectStreamReset', '100'), ('spark.master', 'local[*]'), ('spark.repl.local.jars', 'file:///home/genughaben/postgresql-42.2.8.jar,file:///home/genughaben/.ivy2/jars/org.apache.hadoop_hadoop-aws-2.7.0.jar,file:///home/genughaben/.ivy2/jars/org.apache.hadoop_hadoop-common-2.7.0.jar,file:///home/genughaben/.ivy2/jars/com.fasterxml.jackson.core_jackson-databind-2.2.3.jar,file:///home/genughaben/.ivy2/jars/com.fasterxml.jackson.core_jackson-annotations-2.2.3.jar,file:///home/genughaben/.ivy2/jars/com.amazonaws_aws-java-sdk-1.7.4.jar,file:///home/genughaben/.ivy2/jars/org.apache.hadoop_hadoop-annotations-2.7.0.jar,file:///home/genughaben/.ivy2/jars/com.google.guava_guava-11.0.2.jar,file:///home/genughaben/.ivy2/jars/commons-cli_commons-cli-1.2.jar,file:///home/genughaben/.ivy2/jars/org.apache.commons_commons-math3-3.1.1.jar,file:///home/genughaben/.ivy2/jars/xmlenc_xmlenc-0.52.jar,file:///home/genughaben/.ivy2/jars/commons-httpclient_commons-httpclient-3.1.jar,file:///home/genughaben/.ivy2/jars/commons-codec_commons-codec-1.4.jar,file:///home/genughaben/.ivy2/jars/commons-io_commons-io-2.4.jar,file:///home/genughaben/.ivy2/jars/commons-net_commons-net-3.1.jar,file:///home/genughaben/.ivy2/jars/commons-collections_commons-collections-3.2.1.jar,file:///home/genughaben/.ivy2/jars/javax.servlet_servlet-api-2.5.jar,file:///home/genughaben/.ivy2/jars/org.mortbay.jetty_jetty-6.1.26.jar,file:///home/genughaben/.ivy2/jars/org.mortbay.jetty_jetty-util-6.1.26.jar,file:///home/genughaben/.ivy2/jars/com.sun.jersey_jersey-core-1.9.jar,file:///home/genughaben/.ivy2/jars/com.sun.jersey_jersey-json-1.9.jar,file:///home/genughaben/.ivy2/jars/com.sun.jersey_jersey-server-1.9.jar,file:///home/genughaben/.ivy2/jars/commons-logging_commons-logging-1.1.3.jar,file:///home/genughaben/.ivy2/jars/log4j_log4j-1.2.17.jar,file:///home/genughaben/.ivy2/jars/net.java.dev.jets3t_jets3t-0.9.0.jar,file:///home/genughaben/.ivy2/jars/commons-lang_commons-lang-2.6.jar,file:///home/genughaben/.ivy2/jars/commons-configuration_commons-configuration-1.6.jar,file:///home/genughaben/.ivy2/jars/org.slf4j_slf4j-api-1.7.10.jar,file:///home/genughaben/.ivy2/jars/org.codehaus.jackson_jackson-core-asl-1.9.13.jar,file:///home/genughaben/.ivy2/jars/org.codehaus.jackson_jackson-mapper-asl-1.9.13.jar,file:///home/genughaben/.ivy2/jars/org.apache.avro_avro-1.7.4.jar,file:///home/genughaben/.ivy2/jars/com.google.protobuf_protobuf-java-2.5.0.jar,file:///home/genughaben/.ivy2/jars/com.google.code.gson_gson-2.2.4.jar,file:///home/genughaben/.ivy2/jars/org.apache.hadoop_hadoop-auth-2.7.0.jar,file:///home/genughaben/.ivy2/jars/com.jcraft_jsch-0.1.42.jar,file:///home/genughaben/.ivy2/jars/org.apache.curator_curator-client-2.7.1.jar,file:///home/genughaben/.ivy2/jars/org.apache.curator_curator-recipes-2.7.1.jar,file:///home/genughaben/.ivy2/jars/com.google.code.findbugs_jsr305-3.0.0.jar,file:///home/genughaben/.ivy2/jars/org.apache.htrace_htrace-core-3.1.0-incubating.jar,file:///home/genughaben/.ivy2/jars/org.apache.zookeeper_zookeeper-3.4.6.jar,file:///home/genughaben/.ivy2/jars/org.apache.commons_commons-compress-1.4.1.jar,file:///home/genughaben/.ivy2/jars/org.codehaus.jettison_jettison-1.1.jar,file:///home/genughaben/.ivy2/jars/com.sun.xml.bind_jaxb-impl-2.2.3-1.jar,file:///home/genughaben/.ivy2/jars/org.codehaus.jackson_jackson-jaxrs-1.9.13.jar,file:///home/genughaben/.ivy2/jars/org.codehaus.jackson_jackson-xc-1.9.13.jar,file:///home/genughaben/.ivy2/jars/javax.xml.bind_jaxb-api-2.2.2.jar,file:///home/genughaben/.ivy2/jars/javax.xml.stream_stax-api-1.0-2.jar,file:///home/genughaben/.ivy2/jars/javax.activation_activation-1.1.jar,file:///home/genughaben/.ivy2/jars/asm_asm-3.2.jar,file:///home/genughaben/.ivy2/jars/org.apache.httpcomponents_httpclient-4.2.5.jar,file:///home/genughaben/.ivy2/jars/org.apache.httpcomponents_httpcore-4.2.5.jar,file:///home/genughaben/.ivy2/jars/com.jamesmurty.utils_java-xmlbuilder-0.4.jar,file:///home/genughaben/.ivy2/jars/commons-digester_commons-digester-1.8.jar,file:///home/genughaben/.ivy2/jars/commons-beanutils_commons-beanutils-core-1.8.0.jar,file:///home/genughaben/.ivy2/jars/commons-beanutils_commons-beanutils-1.7.0.jar,file:///home/genughaben/.ivy2/jars/com.thoughtworks.paranamer_paranamer-2.3.jar,file:///home/genughaben/.ivy2/jars/org.xerial.snappy_snappy-java-1.0.4.1.jar,file:///home/genughaben/.ivy2/jars/org.tukaani_xz-1.0.jar,file:///home/genughaben/.ivy2/jars/org.apache.directory.server_apacheds-kerberos-codec-2.0.0-M15.jar,file:///home/genughaben/.ivy2/jars/org.apache.curator_curator-framework-2.7.1.jar,file:///home/genughaben/.ivy2/jars/org.apache.directory.server_apacheds-i18n-2.0.0-M15.jar,file:///home/genughaben/.ivy2/jars/org.apache.directory.api_api-asn1-api-1.0.0-M20.jar,file:///home/genughaben/.ivy2/jars/org.apache.directory.api_api-util-1.0.0-M20.jar,file:///home/genughaben/.ivy2/jars/org.slf4j_slf4j-log4j12-1.7.10.jar,file:///home/genughaben/.ivy2/jars/io.netty_netty-3.6.2.Final.jar,file:///home/genughaben/.ivy2/jars/javax.servlet.jsp_jsp-api-2.1.jar,file:///home/genughaben/.ivy2/jars/jline_jline-0.9.94.jar,file:///home/genughaben/.ivy2/jars/junit_junit-4.11.jar,file:///home/genughaben/.ivy2/jars/org.hamcrest_hamcrest-core-1.3.jar,file:///home/genughaben/.ivy2/jars/com.fasterxml.jackson.core_jackson-core-2.2.3.jar,file:///home/genughaben/.ivy2/jars/joda-time_joda-time-2.10.4.jar'), ('spark.submit.deployMode', 'client'), ('spark.app.id', 'local-1571296708547'), ('spark.ui.showConsoleProgress', 'true')]\n",
      "\n"
     ]
    }
   ],
   "source": [
    "def create_spark_session():\n",
    "    '''Creates a Spark session.\n",
    "    Output:\n",
    "    * spark -- Spark session.\n",
    "    '''\n",
    "    spark = SparkSession \\\n",
    "        .builder \\\n",
    "        .config(\"spark.jars.packages\", \"org.apache.hadoop:hadoop-aws:2.7.0\") \\\n",
    "        .config('spark.network.timeout', '600s')\\\n",
    "        .config('spark.executor.heartbeatInterval', '60s')\\\n",
    "        .getOrCreate()\n",
    "    \n",
    "    return spark\n",
    "\n",
    "sparkSession = create_spark_session()\n",
    "sparkContext = sparkSession.sparkContext\n",
    "sqlContext = SQLContext(sparkContext)\n",
    "\n",
    "print(f\"Spark started with config: \\n {sparkContext.getConf().getAll()}\\n\")\n",
    "\n",
    "# Source for timeout error correction, i.e. higher timeout thresholds: \n",
    "# https://stackoverflow.com/questions/40740750/timeout-exception-in-apache-spark-during-program-execution\n",
    "# https://www.programcreek.com/python/example/83823/pyspark.SparkConf"
   ]
  },
  {
   "cell_type": "markdown",
   "metadata": {},
   "source": [
    "### READ CSV to PySpark DataFrame"
   ]
  },
  {
   "cell_type": "code",
   "execution_count": 60,
   "metadata": {},
   "outputs": [],
   "source": [
    "input_data = '../data/commodity_trade_statistics_data.csv'\n",
    "\n",
    "schema = StructType([\n",
    "    StructField(\"country_or_area\", StringType(), False),\n",
    "    StructField(\"year\", IntegerType(), False),\n",
    "    StructField(\"comm_code\", StringType(), False),\n",
    "    StructField(\"commodity\", StringType(), False),\n",
    "    StructField(\"flow\", StringType(), False),\n",
    "    StructField(\"trade_usd\", DoubleType(), True),\n",
    "    StructField(\"weight_kg\", DoubleType(), True),\n",
    "    StructField(\"quantity_name\", StringType(), False),\n",
    "    StructField(\"quantity\", DoubleType(), True),\n",
    "    StructField(\"category\", StringType(), False)\n",
    "])\n",
    "\n",
    "df = sqlContext.read.format(\"com.databricks.spark.csv\").csv(input_data, header=True, schema=schema)\n",
    "df.printSchema()"
   ]
  },
  {
   "cell_type": "code",
   "execution_count": 61,
   "metadata": {},
   "outputs": [],
   "source": [
    "string_columns = ['country_or_area', 'year', 'comm_code', 'commodity', 'flow', 'quantity_name', 'category']\n",
    "number_columns = ['trade_usd', 'weight_kg', 'quantity']"
   ]
  },
  {
   "cell_type": "markdown",
   "metadata": {},
   "source": [
    "### Detect and remove nans"
   ]
  },
  {
   "cell_type": "markdown",
   "metadata": {},
   "source": [
    "#### Remove records with nan in String Columns"
   ]
  },
  {
   "cell_type": "code",
   "execution_count": 62,
   "metadata": {},
   "outputs": [
    {
     "name": "stdout",
     "output_type": "stream",
     "text": [
      "Remove records with nan in String Columns\n",
      "Filter for nans in column: country_or_area\n",
      "0 records based on nan in country_or_area removed. New dataset has 8226597 records (had 8226597 records before)\n",
      "Filter for nans in column: year\n",
      "726 records based on nan in year removed. New dataset has 8225871 records (had 8226597 records before)\n",
      "Filter for nans in column: comm_code\n",
      "0 records based on nan in comm_code removed. New dataset has 8225871 records (had 8225871 records before)\n",
      "Filter for nans in column: commodity\n",
      "0 records based on nan in commodity removed. New dataset has 8225871 records (had 8225871 records before)\n",
      "Filter for nans in column: flow\n",
      "726 records based on nan in flow removed. New dataset has 8225145 records (had 8225871 records before)\n",
      "Filter for nans in column: quantity_name\n",
      "0 records based on nan in quantity_name removed. New dataset has 8225145 records (had 8225145 records before)\n",
      "Filter for nans in column: category\n",
      "0 records based on nan in category removed. New dataset has 8225145 records (had 8225145 records before)\n"
     ]
    }
   ],
   "source": [
    "print(\"Remove records with nan in String Columns\")\n",
    "col_names = df.columns\n",
    "count = df.count()\n",
    "\n",
    "for col_name in string_columns:\n",
    "    print(f\"Filter for nans in column: {col_name}\")\n",
    "    df = df.filter(df[col_name].isNotNull())\n",
    "    old_count = count\n",
    "    count = df.count()\n",
    "    print(f\"{old_count - count} records based on nan in {col_name} removed. New dataset has {count} records (had {old_count} records before)\")"
   ]
  },
  {
   "cell_type": "markdown",
   "metadata": {},
   "source": [
    "#### Remove records with nan in Numer Columns"
   ]
  },
  {
   "cell_type": "code",
   "execution_count": 72,
   "metadata": {},
   "outputs": [
    {
     "name": "stdout",
     "output_type": "stream",
     "text": [
      "Remove records with nan in Number Columns\n"
     ]
    },
    {
     "data": {
      "text/plain": [
       "DataFrame[country_or_area: string, year: int, comm_code: string, commodity: string, flow: string, trade_usd: double, weight_kg: double, quantity_name: string, quantity: double, category: string]"
      ]
     },
     "execution_count": 72,
     "metadata": {},
     "output_type": "execute_result"
    }
   ],
   "source": [
    "print(\"Remove records with nan in Number Columns\")\n",
    "at_least_one_factual_values = df.filter( df['trade_usd'].isNotNull() | df['weight_kg'].isNotNull() | df['quantity'].isNotNull())\n",
    "at_least_one_factual_values"
   ]
  },
  {
   "cell_type": "code",
   "execution_count": 91,
   "metadata": {},
   "outputs": [
    {
     "data": {
      "text/plain": [
       "[Row(country_or_area=\"Côte d'Ivoire\"),\n",
       " Row(country_or_area='Chad'),\n",
       " Row(country_or_area='Rep. of Moldova'),\n",
       " Row(country_or_area='Anguilla'),\n",
       " Row(country_or_area='Paraguay'),\n",
       " Row(country_or_area='Yemen'),\n",
       " Row(country_or_area='Cayman Isds'),\n",
       " Row(country_or_area='State of Palestine'),\n",
       " Row(country_or_area='Senegal'),\n",
       " Row(country_or_area='Cabo Verde')]"
      ]
     },
     "execution_count": 91,
     "metadata": {},
     "output_type": "execute_result"
    }
   ],
   "source": [
    "countries = df.dropDuplicates(['country_or_area']).select(col('country_or_area')).limit(10).collect()\n",
    "countries"
   ]
  },
  {
   "cell_type": "code",
   "execution_count": 92,
   "metadata": {},
   "outputs": [],
   "source": [
    "# df.createOrReplaceTempView('df')\n",
    "# distinct_countries = sqlContext.sql('''\n",
    "#         SELECT DISTINCT(country_or_area) as country\n",
    "#         FROM df\n",
    "#         LIMIT 10\n",
    "#     ''')\n",
    "# distinct_countries.collect()"
   ]
  },
  {
   "cell_type": "markdown",
   "metadata": {},
   "source": [
    "### WRITE DataFrame to PostgreSQL Database"
   ]
  },
  {
   "cell_type": "code",
   "execution_count": 81,
   "metadata": {},
   "outputs": [],
   "source": [
    "url = \"jdbc:postgresql://127.0.0.1:5432/world\"\n",
    "properties = {\n",
    "    \"driver\": \"org.postgresql.Driver\",\n",
    "    \"user\": \"genughaben\",\n",
    "    \"password\": \"\"\n",
    "}\n",
    "\n",
    "# mode: can be 'overwrite' or 'append'\n",
    "df.write.jdbc(url=url, mode='overwrite', table=\"commodities_staging\", properties=properties)"
   ]
  },
  {
   "cell_type": "markdown",
   "metadata": {},
   "source": [
    "### READING from PostgreSQL to PySpark DataFrame"
   ]
  },
  {
   "cell_type": "code",
   "execution_count": 82,
   "metadata": {},
   "outputs": [],
   "source": [
    "dbDataFrame = sqlContext.read.format(\"jdbc\").option(\"url\", url)\\\n",
    "                        .option(\"dbtable\", 'commodities_staging')\\\n",
    "                        .option(\"driver\", \"org.postgresql.Driver\")\\\n",
    "                        .load()"
   ]
  },
  {
   "cell_type": "code",
   "execution_count": 37,
   "metadata": {
    "scrolled": true
   },
   "outputs": [],
   "source": [
    "#dbDataFrame.printSchema()\n",
    "#sample = dbDataFrame.limit(10).toPandas()"
   ]
  },
  {
   "cell_type": "code",
   "execution_count": 84,
   "metadata": {},
   "outputs": [],
   "source": [
    "country_table = dbDataFrame.dropDuplicates(['country_or_area'])"
   ]
  },
  {
   "cell_type": "code",
   "execution_count": 85,
   "metadata": {},
   "outputs": [
    {
     "name": "stdout",
     "output_type": "stream",
     "text": [
      "root\n",
      " |-- country_or_area: string (nullable = true)\n",
      " |-- year: integer (nullable = true)\n",
      " |-- comm_code: string (nullable = true)\n",
      " |-- commodity: string (nullable = true)\n",
      " |-- flow: string (nullable = true)\n",
      " |-- trade_usd: double (nullable = true)\n",
      " |-- weight_kg: double (nullable = true)\n",
      " |-- quantity_name: string (nullable = true)\n",
      " |-- quantity: double (nullable = true)\n",
      " |-- category: string (nullable = true)\n",
      "\n"
     ]
    },
    {
     "data": {
      "text/plain": [
       "209"
      ]
     },
     "execution_count": 85,
     "metadata": {},
     "output_type": "execute_result"
    }
   ],
   "source": [
    "country_table.printSchema()\n",
    "country_table.count()"
   ]
  },
  {
   "cell_type": "code",
   "execution_count": 86,
   "metadata": {},
   "outputs": [],
   "source": [
    "country_table.createOrReplaceTempView('country_table')"
   ]
  },
  {
   "cell_type": "code",
   "execution_count": 87,
   "metadata": {
    "scrolled": true
   },
   "outputs": [],
   "source": [
    "country_table_data = sqlContext.sql('''\n",
    "        SELECT country_or_area\n",
    "        FROM country_table\n",
    "    ''')"
   ]
  },
  {
   "cell_type": "code",
   "execution_count": 88,
   "metadata": {},
   "outputs": [
    {
     "data": {
      "text/plain": [
       "[Row(country_or_area=\"Côte d'Ivoire\"),\n",
       " Row(country_or_area='Chad'),\n",
       " Row(country_or_area='Rep. of Moldova'),\n",
       " Row(country_or_area='Anguilla'),\n",
       " Row(country_or_area='Paraguay'),\n",
       " Row(country_or_area='Yemen'),\n",
       " Row(country_or_area='Cayman Isds'),\n",
       " Row(country_or_area='State of Palestine'),\n",
       " Row(country_or_area='Senegal'),\n",
       " Row(country_or_area='Cabo Verde'),\n",
       " Row(country_or_area='Sweden'),\n",
       " Row(country_or_area='Kiribati'),\n",
       " Row(country_or_area='Fmr Sudan'),\n",
       " Row(country_or_area='Guyana'),\n",
       " Row(country_or_area='Cook Isds'),\n",
       " Row(country_or_area='Eritrea'),\n",
       " Row(country_or_area='Philippines'),\n",
       " Row(country_or_area='Djibouti'),\n",
       " Row(country_or_area='Tonga'),\n",
       " Row(country_or_area='Malaysia'),\n",
       " Row(country_or_area='Singapore'),\n",
       " Row(country_or_area='Fiji'),\n",
       " Row(country_or_area='Turkey'),\n",
       " Row(country_or_area='Czech Rep.'),\n",
       " Row(country_or_area='Malawi'),\n",
       " Row(country_or_area='Iraq'),\n",
       " Row(country_or_area='Germany'),\n",
       " Row(country_or_area='Comoros'),\n",
       " Row(country_or_area='Solomon Isds'),\n",
       " Row(country_or_area='Afghanistan'),\n",
       " Row(country_or_area='Cambodia'),\n",
       " Row(country_or_area='Jordan'),\n",
       " Row(country_or_area='Maldives'),\n",
       " Row(country_or_area='Rwanda'),\n",
       " Row(country_or_area='Sudan'),\n",
       " Row(country_or_area='Palau'),\n",
       " Row(country_or_area='France'),\n",
       " Row(country_or_area='Greece'),\n",
       " Row(country_or_area='Central African Rep.'),\n",
       " Row(country_or_area='Sri Lanka'),\n",
       " Row(country_or_area='Montserrat'),\n",
       " Row(country_or_area='Dominica'),\n",
       " Row(country_or_area='Algeria'),\n",
       " Row(country_or_area='Togo'),\n",
       " Row(country_or_area='Slovakia'),\n",
       " Row(country_or_area='TFYR of Macedonia'),\n",
       " Row(country_or_area='Argentina'),\n",
       " Row(country_or_area='Belgium'),\n",
       " Row(country_or_area='Angola'),\n",
       " Row(country_or_area='Ecuador'),\n",
       " Row(country_or_area='Qatar'),\n",
       " Row(country_or_area='Lesotho'),\n",
       " Row(country_or_area='Turks and Caicos Isds'),\n",
       " Row(country_or_area='Albania'),\n",
       " Row(country_or_area='FS Micronesia'),\n",
       " Row(country_or_area='Madagascar'),\n",
       " Row(country_or_area='Finland'),\n",
       " Row(country_or_area='New Caledonia'),\n",
       " Row(country_or_area='Ghana'),\n",
       " Row(country_or_area='Myanmar'),\n",
       " Row(country_or_area='Nicaragua'),\n",
       " Row(country_or_area='Brunei Darussalam'),\n",
       " Row(country_or_area='Benin'),\n",
       " Row(country_or_area='Peru'),\n",
       " Row(country_or_area='Sierra Leone'),\n",
       " Row(country_or_area='China'),\n",
       " Row(country_or_area='India'),\n",
       " Row(country_or_area='Bahamas'),\n",
       " Row(country_or_area='So. African Customs Union'),\n",
       " Row(country_or_area='Belarus'),\n",
       " Row(country_or_area='Timor-Leste'),\n",
       " Row(country_or_area='Kuwait'),\n",
       " Row(country_or_area='Malta'),\n",
       " Row(country_or_area='Sao Tome and Principe'),\n",
       " Row(country_or_area='Tuvalu'),\n",
       " Row(country_or_area='Chile'),\n",
       " Row(country_or_area='Tajikistan'),\n",
       " Row(country_or_area='Martinique'),\n",
       " Row(country_or_area='Bolivia (Plurinational State of)'),\n",
       " Row(country_or_area='Serbia and Montenegro'),\n",
       " Row(country_or_area='Croatia'),\n",
       " Row(country_or_area='Burundi'),\n",
       " Row(country_or_area='Andorra'),\n",
       " Row(country_or_area='Nigeria'),\n",
       " Row(country_or_area='Gabon'),\n",
       " Row(country_or_area='Italy'),\n",
       " Row(country_or_area='Suriname'),\n",
       " Row(country_or_area='Réunion'),\n",
       " Row(country_or_area='Lithuania'),\n",
       " Row(country_or_area='Faeroe Isds'),\n",
       " Row(country_or_area='Norway'),\n",
       " Row(country_or_area='Turkmenistan'),\n",
       " Row(country_or_area='Spain'),\n",
       " Row(country_or_area='Cuba'),\n",
       " Row(country_or_area='Mauritania'),\n",
       " Row(country_or_area='Guadeloupe'),\n",
       " Row(country_or_area='Denmark'),\n",
       " Row(country_or_area='Niger'),\n",
       " Row(country_or_area='Bangladesh'),\n",
       " Row(country_or_area='Barbados'),\n",
       " Row(country_or_area='Iran'),\n",
       " Row(country_or_area='Russian Federation'),\n",
       " Row(country_or_area='Ireland'),\n",
       " Row(country_or_area='Congo'),\n",
       " Row(country_or_area='Thailand'),\n",
       " Row(country_or_area='Swaziland'),\n",
       " Row(country_or_area='Bhutan'),\n",
       " Row(country_or_area='Morocco'),\n",
       " Row(country_or_area='Panama'),\n",
       " Row(country_or_area='Ukraine'),\n",
       " Row(country_or_area='Venezuela'),\n",
       " Row(country_or_area='Iceland'),\n",
       " Row(country_or_area='Israel'),\n",
       " Row(country_or_area='Rep. of Korea'),\n",
       " Row(country_or_area='Saint Kitts and Nevis'),\n",
       " Row(country_or_area='Bosnia Herzegovina'),\n",
       " Row(country_or_area='French Polynesia'),\n",
       " Row(country_or_area='Oman'),\n",
       " Row(country_or_area='USA'),\n",
       " Row(country_or_area='Cyprus'),\n",
       " Row(country_or_area='Uruguay'),\n",
       " Row(country_or_area='Mexico'),\n",
       " Row(country_or_area='Aruba'),\n",
       " Row(country_or_area='Georgia'),\n",
       " Row(country_or_area='Estonia'),\n",
       " Row(country_or_area='Montenegro'),\n",
       " Row(country_or_area='Zimbabwe'),\n",
       " Row(country_or_area='Indonesia'),\n",
       " Row(country_or_area='Saint Vincent and the Grenadines'),\n",
       " Row(country_or_area='Guatemala'),\n",
       " Row(country_or_area='China, Macao SAR'),\n",
       " Row(country_or_area='Mongolia'),\n",
       " Row(country_or_area='Other Asia, nes'),\n",
       " Row(country_or_area='Azerbaijan'),\n",
       " Row(country_or_area='Libya'),\n",
       " Row(country_or_area='Grenada'),\n",
       " Row(country_or_area='Dominican Rep.'),\n",
       " Row(country_or_area='Armenia'),\n",
       " Row(country_or_area='Tunisia'),\n",
       " Row(country_or_area='Honduras'),\n",
       " Row(country_or_area='Syria'),\n",
       " Row(country_or_area='Trinidad and Tobago'),\n",
       " Row(country_or_area='Fmr Fed. Rep. of Germany'),\n",
       " Row(country_or_area='Saudi Arabia'),\n",
       " Row(country_or_area='Uganda'),\n",
       " Row(country_or_area='United Rep. of Tanzania'),\n",
       " Row(country_or_area='French Guiana'),\n",
       " Row(country_or_area='Wallis and Futuna Isds'),\n",
       " Row(country_or_area='Mayotte'),\n",
       " Row(country_or_area='Namibia'),\n",
       " Row(country_or_area='Switzerland'),\n",
       " Row(country_or_area='Zambia'),\n",
       " Row(country_or_area='Ethiopia'),\n",
       " Row(country_or_area='Jamaica'),\n",
       " Row(country_or_area='Latvia'),\n",
       " Row(country_or_area='United Arab Emirates'),\n",
       " Row(country_or_area='Saint Lucia'),\n",
       " Row(country_or_area='Guinea'),\n",
       " Row(country_or_area=\"Lao People's Dem. Rep.\"),\n",
       " Row(country_or_area='Canada'),\n",
       " Row(country_or_area='Belgium-Luxembourg'),\n",
       " Row(country_or_area='Seychelles'),\n",
       " Row(country_or_area='Kyrgyzstan'),\n",
       " Row(country_or_area='Samoa'),\n",
       " Row(country_or_area='Mozambique'),\n",
       " Row(country_or_area='Brazil'),\n",
       " Row(country_or_area='Belize'),\n",
       " Row(country_or_area='Gambia'),\n",
       " Row(country_or_area='Kenya'),\n",
       " Row(country_or_area='Lebanon'),\n",
       " Row(country_or_area='Antigua and Barbuda'),\n",
       " Row(country_or_area='Slovenia'),\n",
       " Row(country_or_area='Viet Nam'),\n",
       " Row(country_or_area='Botswana'),\n",
       " Row(country_or_area='Japan'),\n",
       " Row(country_or_area='Luxembourg'),\n",
       " Row(country_or_area='New Zealand'),\n",
       " Row(country_or_area='Greenland'),\n",
       " Row(country_or_area='Haiti'),\n",
       " Row(country_or_area='Poland'),\n",
       " Row(country_or_area='Portugal'),\n",
       " Row(country_or_area='Cameroon'),\n",
       " Row(country_or_area='Australia'),\n",
       " Row(country_or_area='Neth. Antilles'),\n",
       " Row(country_or_area='Papua New Guinea'),\n",
       " Row(country_or_area='Guinea-Bissau'),\n",
       " Row(country_or_area='Romania'),\n",
       " Row(country_or_area='Bulgaria'),\n",
       " Row(country_or_area='EU-28'),\n",
       " Row(country_or_area='Austria'),\n",
       " Row(country_or_area='Nepal'),\n",
       " Row(country_or_area='China, Hong Kong SAR'),\n",
       " Row(country_or_area='Costa Rica'),\n",
       " Row(country_or_area='Egypt'),\n",
       " Row(country_or_area='El Salvador'),\n",
       " Row(country_or_area='Kazakhstan'),\n",
       " Row(country_or_area='Serbia'),\n",
       " Row(country_or_area='Burkina Faso'),\n",
       " Row(country_or_area='South Africa'),\n",
       " Row(country_or_area='Bermuda'),\n",
       " Row(country_or_area='Bahrain'),\n",
       " Row(country_or_area='Colombia'),\n",
       " Row(country_or_area='Hungary'),\n",
       " Row(country_or_area='Pakistan'),\n",
       " Row(country_or_area='Vanuatu'),\n",
       " Row(country_or_area='Mauritius'),\n",
       " Row(country_or_area='United Kingdom'),\n",
       " Row(country_or_area='Mali'),\n",
       " Row(country_or_area='Netherlands')]"
      ]
     },
     "execution_count": 88,
     "metadata": {},
     "output_type": "execute_result"
    }
   ],
   "source": [
    "country_table_data.collect()"
   ]
  },
  {
   "cell_type": "markdown",
   "metadata": {},
   "source": [
    "## SOURCES:\n",
    "* https://medium.com/@thucnc/pyspark-in-jupyter-notebook-working-with-dataframe-jdbc-data-sources-6f3d39300bf6\n",
    "* https://spark.apache.org/docs/latest/sql-data-sources-jdbc.html\n",
    "* https://medium.com/@usmanazhar4/how-to-read-and-write-from-database-in-spark-using-pyspark-150d39cdbb72"
   ]
  },
  {
   "cell_type": "code",
   "execution_count": null,
   "metadata": {},
   "outputs": [],
   "source": []
  }
 ],
 "metadata": {
  "kernelspec": {
   "display_name": "Python 3",
   "language": "python",
   "name": "python3"
  },
  "language_info": {
   "codemirror_mode": {
    "name": "ipython",
    "version": 3
   },
   "file_extension": ".py",
   "mimetype": "text/x-python",
   "name": "python",
   "nbconvert_exporter": "python",
   "pygments_lexer": "ipython3",
   "version": "3.6.8"
  }
 },
 "nbformat": 4,
 "nbformat_minor": 2
}
