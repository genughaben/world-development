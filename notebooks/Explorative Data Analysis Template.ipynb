{
 "cells": [
  {
   "cell_type": "markdown",
   "metadata": {},
   "source": [
    "# Explorative Data Analysis - Template - Eval for Data in DB import"
   ]
  },
  {
   "cell_type": "markdown",
   "metadata": {},
   "source": [
    "### GOAL: \n",
    "- state your goal and modifiy your tasks for EDA accordingly\n",
    "- always add data exploration insights specific extra tasks if necessary \n",
    "- identifizieren von interessanten Attributen für die Erstellung einer Snowflake-Datenbank-Schemas\n",
    "\n",
    "Example apporaches\n",
    "approaches / techniques\n",
    "- maximize insight into a data set;\n",
    "- uncover underlying structure;\n",
    "- extract important variables;\n",
    "- detect outliers and anomalies;\n",
    "- test underlying assumptions;\n",
    "- develop parsimonious models; and\n",
    "- determine optimal factor settings\n",
    "\n",
    "Questions:\n",
    "- What data types do you expect\n",
    "- What are relevant validation tasks (i.e. the sum of country emssions cannot be more than word emissions or more blalant - a country cannot have more emissions that he world had)"
   ]
  },
  {
   "cell_type": "markdown",
   "metadata": {},
   "source": [
    "## Prerequisits:\n",
    "- Download and extract data in data-Folder\n",
    "- Install and add required package to load data\n",
    "- Open a documentation file for the results\n",
    "- Make sure to add a paragraph to your final README to reflect most important findings"
   ]
  },
  {
   "cell_type": "markdown",
   "metadata": {},
   "source": [
    "## Imports"
   ]
  },
  {
   "cell_type": "code",
   "execution_count": null,
   "metadata": {},
   "outputs": [],
   "source": [
    "%matplotlib inline\n",
    "%load_ext autoreload\n",
    "%autoreload 2\n",
    "\n",
    "import numpy as np\n",
    "import pandas as pd\n",
    "import pandas_profiling\n",
    "\n",
    "pd.set_option('display.max_rows', 500)\n",
    "pd.set_option('display.max_columns', 500)\n",
    "pd.set_option('display.width', 1000)\n",
    "\n",
    "import matplotlib.pyplot as plt\n",
    "import ipywidgets as widgets\n",
    "from IPython.display import clear_output\n",
    "\n",
    "import plotly.offline as py\n",
    "py.init_notebook_mode(connected=True)\n",
    "import plotly.graph_objs as go\n",
    "import plotly.tools as tls\n",
    "import seaborn as sns\n",
    "import time\n",
    "import warnings\n",
    "warnings.filterwarnings('ignore')\n",
    "\n",
    "# change display of floats in dataframes\n",
    "pd.set_option('display.float_format', lambda x: \"{0:,.0f}\".format(x))"
   ]
  },
  {
   "cell_type": "markdown",
   "metadata": {},
   "source": [
    "#### SOURCE: <url>"
   ]
  },
  {
   "cell_type": "markdown",
   "metadata": {},
   "source": [
    "## Load data"
   ]
  },
  {
   "cell_type": "code",
   "execution_count": null,
   "metadata": {},
   "outputs": [],
   "source": [
    "df = pd.read_csv('/Users/lukas/Downloads/titanic/train.csv')"
   ]
  },
  {
   "cell_type": "markdown",
   "metadata": {},
   "source": [
    "## Explore / Question\n",
    "- Aufbau des Datensatzen (mehrere Dateien?), Schema? (EVA, multiple Tables)\n",
    "- NANs, null - Quantifizieren / handlen\n",
    "- duplicates - quantifizieren, entfernen\n",
    "- Datentypen - inspizieren und ggf anpassen (sind nur wenige für den allgeineren Datentyp verantwortlich?)\n",
    "- describe für numerische Werte\n",
    "- skew / destribution of data / value range - Draw Box-and-Whisker Charts \n",
    "- extreme values / outliers / anomalies - Any data value that lies more than (1.5 * IQR) away from the Q1 and Q3 quartiles is considered an outlier\n",
    "\n",
    "Drop\n",
    "- irrelavant, not so interesting data, e.g., if we were analyzing data about the general health of the population, the phone number wouldn’t be necessary — column-wise.\n"
   ]
  },
  {
   "cell_type": "code",
   "execution_count": null,
   "metadata": {},
   "outputs": [],
   "source": [
    "# pandas function creates a report from several common EDA commands\n",
    "def eda(dataframe):\n",
    " print(“missing values: {}”.format(dataframe.isnull().sum()))\n",
    " print(“dataframe index: {}”.format(dataframe.index))\n",
    " print(“dataframe types: {}”.format(dataframe.dtypes))\n",
    " print(“dataframe shape: {}”.format(dataframe.shape))\n",
    " print(“dataframe index: {}”.format(dataframe.index))\n",
    " print(“dataframe describe: {}”.format(dataframe.describe()))\n",
    "for item in dataframe:\n",
    " print(item)\n",
    " print(dataframe[item].nunique())"
   ]
  },
  {
   "cell_type": "code",
   "execution_count": null,
   "metadata": {},
   "outputs": [],
   "source": [
    "# creates pandas profiling report\n",
    "pandas_profiling.ProfileReport(df)\n",
    "df.sample(5)"
   ]
  },
  {
   "cell_type": "markdown",
   "metadata": {},
   "source": [
    "For example, the code below will generate a bar chart showing how many missing values are in each column of the train dataframe."
   ]
  },
  {
   "cell_type": "code",
   "execution_count": null,
   "metadata": {},
   "outputs": [],
   "source": [
    "\n",
    "# imports:\n",
    "\n",
    "# plot missing data:\n",
    "train.isnull().sum().plot(kind='bar')\n",
    "# Add a title and show the plot.\n",
    "plt.title('Number of Missing Values Per Column')\n",
    "# Create tick mark labels on the Y axis and rotate them.\n",
    "plt.xticks(rotation = 45)\n",
    "# Create X axis label.\n",
    "plt.xlabel(\"Columns\")\n",
    "# Create Y axis label.\n",
    "plt.ylabel(\"NaN Values\");"
   ]
  },
  {
   "cell_type": "markdown",
   "metadata": {},
   "source": [
    "## Clean / Verify"
   ]
  },
  {
   "cell_type": "markdown",
   "metadata": {},
   "source": [
    "Missing values\n",
    "- .dropna() — drop NaN values\n",
    "- .fillna() — impute NaN values\n",
    "- or: impute\n",
    "====\n",
    "Dublicates\n",
    "- .drop_duplicates()— drop duplicate values\n",
    "Formatting:\n",
    "- Remove white spaces: \"   hello world  \" => \"hello world\n",
    "- Pad strings: 313 => 000313 (6 digits)\n",
    "- Maybe: Fix typos: Strings can be entered in many different ways, and no wonder, can have mistakes. (Gender, m, Male, fem., FemalE, Femle), find unique values for these columns an maybe replace typos with correct values, maybe: use  fuzzy matching\n",
    "Data-Types\n",
    "- .astype()— change a column data type"
   ]
  },
  {
   "cell_type": "code",
   "execution_count": null,
   "metadata": {},
   "outputs": [],
   "source": [
    "# The first solution is to manually map each value to either “male” or “female”.\n",
    "dataframe['gender'].map({'m': 'male', fem.': 'female', ...})\n",
    "# The second solution is to use pattern match. For example, we can look for the occurrence of m or M in the gender at the beginning of the string\n",
    "re.sub(r\"\\^m\\$\", 'Male', 'male', flags=re.IGNORECASE)"
   ]
  },
  {
   "cell_type": "markdown",
   "metadata": {},
   "source": [
    "## Transform and Aggregate\n",
    "- i.e. if your aim is to come to year and country data - transform and aggregate your input data accordingly\n",
    "\n",
    "- Standardize if necessary: lower or upper case, number format, same units where applicable\n",
    "- scale: to match values, like i.e. 0-100 or gpa 0-5 \n",
    "- normalize: -> [0,1] if applicable"
   ]
  },
  {
   "cell_type": "markdown",
   "metadata": {},
   "source": [
    "## Document / Save"
   ]
  },
  {
   "cell_type": "code",
   "execution_count": null,
   "metadata": {},
   "outputs": [],
   "source": []
  },
  {
   "cell_type": "code",
   "execution_count": null,
   "metadata": {},
   "outputs": [],
   "source": [
    "# export dataframe to .csv\n",
    "df.to_csv('export_2018_pricelist.csv', index=False)"
   ]
  },
  {
   "cell_type": "markdown",
   "metadata": {},
   "source": [
    "## Sources\n",
    "- https://medium.com/swlh/eda-exploratory-data-analysis-e0f453d97894\n",
    "- https://towardsdatascience.com/speed-up-your-exploratory-data-analysis-with-pandas-profiling-88b33dc53625\n",
    "- https://towardsdatascience.com/the-ultimate-guide-to-data-cleaning-3969843991d4"
   ]
  },
  {
   "cell_type": "code",
   "execution_count": null,
   "metadata": {},
   "outputs": [],
   "source": []
  }
 ],
 "metadata": {
  "kernelspec": {
   "display_name": "world",
   "language": "python",
   "name": "world"
  },
  "language_info": {
   "codemirror_mode": {
    "name": "ipython",
    "version": 3
   },
   "file_extension": ".py",
   "mimetype": "text/x-python",
   "name": "python",
   "nbconvert_exporter": "python",
   "pygments_lexer": "ipython3",
   "version": "3.7.4"
  }
 },
 "nbformat": 4,
 "nbformat_minor": 2
}
